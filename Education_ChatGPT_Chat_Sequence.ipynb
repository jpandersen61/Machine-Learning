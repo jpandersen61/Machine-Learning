{
  "nbformat": 4,
  "nbformat_minor": 0,
  "metadata": {
    "colab": {
      "provenance": [],
      "authorship_tag": "ABX9TyMDAxGfEqAVGXgc9DlrXkUC",
      "include_colab_link": true
    },
    "kernelspec": {
      "name": "python3",
      "display_name": "Python 3"
    },
    "language_info": {
      "name": "python"
    }
  },
  "cells": [
    {
      "cell_type": "markdown",
      "metadata": {
        "id": "view-in-github",
        "colab_type": "text"
      },
      "source": [
        "<a href=\"https://colab.research.google.com/github/jpandersen61/Machine-Learning/blob/main/Education_ChatGPT_Chat_Sequence.ipynb\" target=\"_parent\"><img src=\"https://colab.research.google.com/assets/colab-badge.svg\" alt=\"Open In Colab\"/></a>"
      ]
    },
    {
      "cell_type": "markdown",
      "source": [
        "#Chat sequence"
      ],
      "metadata": {
        "id": "MgpnjDz_ARFo"
      }
    },
    {
      "cell_type": "markdown",
      "source": [
        "###Install OpenAI components"
      ],
      "metadata": {
        "id": "bmZomqAqUet4"
      }
    },
    {
      "cell_type": "code",
      "execution_count": 1,
      "metadata": {
        "colab": {
          "base_uri": "https://localhost:8080/"
        },
        "id": "WMZtZ_fFULYL",
        "outputId": "d65550bf-c05d-4546-ddbf-89837c329c26"
      },
      "outputs": [
        {
          "output_type": "stream",
          "name": "stdout",
          "text": [
            "Requirement already satisfied: openai in /usr/local/lib/python3.11/dist-packages (1.75.0)\n",
            "Requirement already satisfied: anyio<5,>=3.5.0 in /usr/local/lib/python3.11/dist-packages (from openai) (4.9.0)\n",
            "Requirement already satisfied: distro<2,>=1.7.0 in /usr/local/lib/python3.11/dist-packages (from openai) (1.9.0)\n",
            "Requirement already satisfied: httpx<1,>=0.23.0 in /usr/local/lib/python3.11/dist-packages (from openai) (0.28.1)\n",
            "Requirement already satisfied: jiter<1,>=0.4.0 in /usr/local/lib/python3.11/dist-packages (from openai) (0.9.0)\n",
            "Requirement already satisfied: pydantic<3,>=1.9.0 in /usr/local/lib/python3.11/dist-packages (from openai) (2.11.3)\n",
            "Requirement already satisfied: sniffio in /usr/local/lib/python3.11/dist-packages (from openai) (1.3.1)\n",
            "Requirement already satisfied: tqdm>4 in /usr/local/lib/python3.11/dist-packages (from openai) (4.67.1)\n",
            "Requirement already satisfied: typing-extensions<5,>=4.11 in /usr/local/lib/python3.11/dist-packages (from openai) (4.13.2)\n",
            "Requirement already satisfied: idna>=2.8 in /usr/local/lib/python3.11/dist-packages (from anyio<5,>=3.5.0->openai) (3.10)\n",
            "Requirement already satisfied: certifi in /usr/local/lib/python3.11/dist-packages (from httpx<1,>=0.23.0->openai) (2025.1.31)\n",
            "Requirement already satisfied: httpcore==1.* in /usr/local/lib/python3.11/dist-packages (from httpx<1,>=0.23.0->openai) (1.0.8)\n",
            "Requirement already satisfied: h11<0.15,>=0.13 in /usr/local/lib/python3.11/dist-packages (from httpcore==1.*->httpx<1,>=0.23.0->openai) (0.14.0)\n",
            "Requirement already satisfied: annotated-types>=0.6.0 in /usr/local/lib/python3.11/dist-packages (from pydantic<3,>=1.9.0->openai) (0.7.0)\n",
            "Requirement already satisfied: pydantic-core==2.33.1 in /usr/local/lib/python3.11/dist-packages (from pydantic<3,>=1.9.0->openai) (2.33.1)\n",
            "Requirement already satisfied: typing-inspection>=0.4.0 in /usr/local/lib/python3.11/dist-packages (from pydantic<3,>=1.9.0->openai) (0.4.0)\n"
          ]
        }
      ],
      "source": [
        "pip install openai\n"
      ]
    },
    {
      "cell_type": "code",
      "source": [
        "pip install python-dotenv"
      ],
      "metadata": {
        "colab": {
          "base_uri": "https://localhost:8080/"
        },
        "id": "dtwUjrS2VbqJ",
        "outputId": "45a66b25-0395-42f6-fa42-dc8093304dd0"
      },
      "execution_count": 2,
      "outputs": [
        {
          "output_type": "stream",
          "name": "stdout",
          "text": [
            "Collecting python-dotenv\n",
            "  Downloading python_dotenv-1.1.0-py3-none-any.whl.metadata (24 kB)\n",
            "Downloading python_dotenv-1.1.0-py3-none-any.whl (20 kB)\n",
            "Installing collected packages: python-dotenv\n",
            "Successfully installed python-dotenv-1.1.0\n"
          ]
        }
      ]
    },
    {
      "cell_type": "markdown",
      "source": [
        "###Mount Google Drive"
      ],
      "metadata": {
        "id": "LiVhUlZfVsRP"
      }
    },
    {
      "cell_type": "code",
      "source": [
        "from google.colab import drive\n",
        "drive.mount('/content/drive')"
      ],
      "metadata": {
        "colab": {
          "base_uri": "https://localhost:8080/"
        },
        "id": "ERwSE0yEV4Rs",
        "outputId": "b5e7ab9f-4a7e-4c81-d6d7-2b72eed9b5e0"
      },
      "execution_count": 3,
      "outputs": [
        {
          "output_type": "stream",
          "name": "stdout",
          "text": [
            "Mounted at /content/drive\n"
          ]
        }
      ]
    },
    {
      "cell_type": "markdown",
      "source": [
        "###Load .env file"
      ],
      "metadata": {
        "id": "cc3ly5uAWIYc"
      }
    },
    {
      "cell_type": "code",
      "source": [
        "from dotenv import load_dotenv\n",
        "load_dotenv('drive/My Drive/Colab Notebooks/.env')"
      ],
      "metadata": {
        "colab": {
          "base_uri": "https://localhost:8080/"
        },
        "id": "m5ycZHwQWNan",
        "outputId": "0d3dc12b-47ea-4ef6-d097-d04ea7e13c9a"
      },
      "execution_count": 4,
      "outputs": [
        {
          "output_type": "execute_result",
          "data": {
            "text/plain": [
              "True"
            ]
          },
          "metadata": {},
          "execution_count": 4
        }
      ]
    },
    {
      "cell_type": "markdown",
      "source": [
        "###Initialize Open AI client"
      ],
      "metadata": {
        "id": "uWB5Q5NqXCYm"
      }
    },
    {
      "cell_type": "code",
      "source": [
        "from openai import OpenAI as openai\n",
        "import os\n",
        "openai.api_key = os.getenv(\"OPENAI_API_KEY\")\n",
        "openai.api_key\n",
        "client = openai()"
      ],
      "metadata": {
        "id": "NRygMPIVXDzp"
      },
      "execution_count": 5,
      "outputs": []
    },
    {
      "cell_type": "markdown",
      "source": [
        "###Various variables and settings"
      ],
      "metadata": {
        "id": "rerQJqKxX_i0"
      }
    },
    {
      "cell_type": "code",
      "source": [
        "#gptModel=\"gpt-4o-mini\"\n",
        "gptModel=\"gpt-4-turbo\"\n",
        "chatCompletionChoices=1\n",
        "samplingTemperature=None\n",
        "maxCompletionTokens=1000\n",
        "nucleusSampling=None"
      ],
      "metadata": {
        "id": "WmrMIHu-ZwNb"
      },
      "execution_count": 6,
      "outputs": []
    },
    {
      "cell_type": "markdown",
      "source": [
        "###1st prompt"
      ],
      "metadata": {
        "id": "A4nb_Yj2Z_1s"
      }
    },
    {
      "cell_type": "code",
      "source": [
        "#InitialSystemContent = \"You are a helpful teacher.\"\n",
        "#InitialSystemContent = \"You are an experienced sales copywriter. The name of my business is Future Mind Consulting, and we sell software development. Write a 200-word email that will persuade anyone who reads it to become a customer.\"\n",
        "InitialSystemContent =  \"Role: I am a potential student at a Danish business and technology academy (erhvervsakademi). Context: My intererest are within information technology Task: Give me a list og relevant programmes\""
      ],
      "metadata": {
        "id": "qGt6k0aqYxCt"
      },
      "execution_count": 7,
      "outputs": []
    },
    {
      "cell_type": "code",
      "source": [
        "FirstUserContent = \"Give a list of relevant programmes\"\n",
        "#FirstUserContent = \"Serious\""
      ],
      "metadata": {
        "id": "3Q13yuwTY4zt"
      },
      "execution_count": 8,
      "outputs": []
    },
    {
      "cell_type": "code",
      "source": [
        "chatMessages=[\n",
        "    {\n",
        "        \"role\": \"system\", \"content\": InitialSystemContent\n",
        "    },\n",
        "    {\n",
        "        \"role\": \"user\",\n",
        "        \"content\": FirstUserContent,\n",
        "    },\n",
        "]"
      ],
      "metadata": {
        "id": "WL5KOl_KZUFB"
      },
      "execution_count": 9,
      "outputs": []
    },
    {
      "cell_type": "code",
      "source": [
        "print(chatMessages)"
      ],
      "metadata": {
        "colab": {
          "base_uri": "https://localhost:8080/"
        },
        "id": "vgSDj-dyaVNe",
        "outputId": "6a7a20cc-f9e9-4f26-c023-aaa1a00704a9"
      },
      "execution_count": 10,
      "outputs": [
        {
          "output_type": "stream",
          "name": "stdout",
          "text": [
            "[{'role': 'system', 'content': 'Role: I am a potential student at a Danish business and technology academy (erhvervsakademi). Context: My intererest are within information technology Task: Give me a list og relevant programmes'}, {'role': 'user', 'content': 'Give a list of relevant programmes'}]\n"
          ]
        }
      ]
    },
    {
      "cell_type": "code",
      "source": [
        "response = client.chat.completions.create(model=gptModel, messages=chatMessages, n=chatCompletionChoices, temperature=samplingTemperature, max_completion_tokens=maxCompletionTokens, top_p=nucleusSampling)"
      ],
      "metadata": {
        "id": "EeCD7AUFZlrV"
      },
      "execution_count": 11,
      "outputs": []
    },
    {
      "cell_type": "code",
      "source": [
        "FirstAssistantContent = response.choices[0].message.content\n",
        "#Force assitant message to be something:  FirstAssistantContent = \"Yes, there are other measures besides time complexfor an algorithm, such as space complexity.\"\n"
      ],
      "metadata": {
        "id": "aSHZU_1mbPJu"
      },
      "execution_count": 12,
      "outputs": []
    },
    {
      "cell_type": "code",
      "source": [
        "print(FirstAssistantContent)"
      ],
      "metadata": {
        "colab": {
          "base_uri": "https://localhost:8080/"
        },
        "collapsed": true,
        "id": "7ppulUHVbb1W",
        "outputId": "015f80ef-9f91-4454-f03d-e941693ff80c"
      },
      "execution_count": 13,
      "outputs": [
        {
          "output_type": "stream",
          "name": "stdout",
          "text": [
            "Here's a list of relevant programs you might consider if you're interested in Information Technology at Danish business and technology academies (erhvervsakademier):\n",
            "\n",
            "1. **Computer Science (Datamatiker)** - This program typically covers topics such as programming, system development, and IT architectures. You’ll learn how to develop software, manage databases, and understand various programming languages.\n",
            "\n",
            "2. **IT Technology (IT-Teknolog)** - Focused on providing a broad foundation in IT, including network technology, hardware, and software solutions. This program is good if you want a hands-on approach to IT system implementation and maintenance.\n",
            "\n",
            "3. **Web Development (Webudvikler)** - This program is ideal if you're interested in designing and creating websites. It covers areas such as front-end and back-end programming, user interfaces, and user experience design.\n",
            "\n",
            "4. **Multimedia Design and Communication (Multimediedesigner)** - If you're interested in a combination of IT and creative skills, this program might be for you. It focuses on digital media, web design, graphic design, and digital communication.\n",
            "\n",
            "5. **Data Analyst Education (Dataanalytiker)** - This program focuses on data analysis, big data, and how to process large sets of data to derive actionable insights. It includes training in statistics, programming, and data visualization tools.\n",
            "\n",
            "6. **Software Development (Softwareudvikling)** - Tailored for students who wish to develop software, including apps for various platforms. The curriculum typically includes programming languages, user interface design, and software testing methodologies.\n",
            "\n",
            "7. **Cyber Security (Cybersikkerhed)** - With an emphasis on protecting systems, networks, and data from cyber threats, this program provides knowledge in areas such as risk management, cryptography, and digital forensics.\n",
            "\n",
            "8. **Network Technology and IT (Netværksteknologi og IT)** - This program focuses on the configuration, management, and troubleshooting of computer networks. It often includes studying various networking standards and protocols.\n",
            "\n",
            "9. **Robotics Technologist (Robotteknolog)** - Although more specialized, this program includes aspects of IT, focusing on the design and implementation of robotic systems. Subjects might include programming, electronic engineering, and AI.\n",
            "\n",
            "When choosing a program, consider your specific interests within IT, as well as the career opportunities each program may open up. Also, check each academy's website for detailed information on course specifics, entry requirements, and application deadlines.\n"
          ]
        }
      ]
    },
    {
      "cell_type": "markdown",
      "source": [
        "###2nd prompt"
      ],
      "metadata": {
        "id": "RFqIPlLuflNM"
      }
    },
    {
      "cell_type": "code",
      "source": [
        "#SecondUserContent = \"What is it?\"\n",
        "#SecondUserContent = \"It is for medical device industry\"\n",
        "SecondUserContent = \"Give me the details on 1\""
      ],
      "metadata": {
        "id": "r_RsKgpPfqEq"
      },
      "execution_count": 14,
      "outputs": []
    },
    {
      "cell_type": "code",
      "source": [
        "chatMessages=[\n",
        "    {\n",
        "        \"role\": \"system\", \"content\": InitialSystemContent\n",
        "    },\n",
        "    {\n",
        "        \"role\": \"user\",\n",
        "        \"content\": FirstUserContent,\n",
        "    },\n",
        "    {\n",
        "        \"role\": \"assistant\",\n",
        "        \"content\": FirstAssistantContent,\n",
        "    },\n",
        "    {\n",
        "        \"role\": \"user\",\n",
        "        \"content\": SecondUserContent,\n",
        "    },\n",
        "]"
      ],
      "metadata": {
        "id": "ZvDPMcZegS4h"
      },
      "execution_count": 15,
      "outputs": []
    },
    {
      "cell_type": "code",
      "source": [
        "print(chatMessages)"
      ],
      "metadata": {
        "colab": {
          "base_uri": "https://localhost:8080/"
        },
        "id": "_MNGcNulhYNy",
        "outputId": "cc55ec42-efcd-4738-94d7-2f27c43b1cca"
      },
      "execution_count": 16,
      "outputs": [
        {
          "output_type": "stream",
          "name": "stdout",
          "text": [
            "[{'role': 'system', 'content': 'Role: I am a potential student at a Danish business and technology academy (erhvervsakademi). Context: My intererest are within information technology Task: Give me a list og relevant programmes'}, {'role': 'user', 'content': 'Give a list of relevant programmes'}, {'role': 'assistant', 'content': \"Here's a list of relevant programs you might consider if you're interested in Information Technology at Danish business and technology academies (erhvervsakademier):\\n\\n1. **Computer Science (Datamatiker)** - This program typically covers topics such as programming, system development, and IT architectures. You’ll learn how to develop software, manage databases, and understand various programming languages.\\n\\n2. **IT Technology (IT-Teknolog)** - Focused on providing a broad foundation in IT, including network technology, hardware, and software solutions. This program is good if you want a hands-on approach to IT system implementation and maintenance.\\n\\n3. **Web Development (Webudvikler)** - This program is ideal if you're interested in designing and creating websites. It covers areas such as front-end and back-end programming, user interfaces, and user experience design.\\n\\n4. **Multimedia Design and Communication (Multimediedesigner)** - If you're interested in a combination of IT and creative skills, this program might be for you. It focuses on digital media, web design, graphic design, and digital communication.\\n\\n5. **Data Analyst Education (Dataanalytiker)** - This program focuses on data analysis, big data, and how to process large sets of data to derive actionable insights. It includes training in statistics, programming, and data visualization tools.\\n\\n6. **Software Development (Softwareudvikling)** - Tailored for students who wish to develop software, including apps for various platforms. The curriculum typically includes programming languages, user interface design, and software testing methodologies.\\n\\n7. **Cyber Security (Cybersikkerhed)** - With an emphasis on protecting systems, networks, and data from cyber threats, this program provides knowledge in areas such as risk management, cryptography, and digital forensics.\\n\\n8. **Network Technology and IT (Netværksteknologi og IT)** - This program focuses on the configuration, management, and troubleshooting of computer networks. It often includes studying various networking standards and protocols.\\n\\n9. **Robotics Technologist (Robotteknolog)** - Although more specialized, this program includes aspects of IT, focusing on the design and implementation of robotic systems. Subjects might include programming, electronic engineering, and AI.\\n\\nWhen choosing a program, consider your specific interests within IT, as well as the career opportunities each program may open up. Also, check each academy's website for detailed information on course specifics, entry requirements, and application deadlines.\"}, {'role': 'user', 'content': 'Give me the details on 1'}]\n"
          ]
        }
      ]
    },
    {
      "cell_type": "code",
      "source": [
        "response = client.chat.completions.create(model=gptModel, messages=chatMessages, n=chatCompletionChoices, temperature=samplingTemperature, max_completion_tokens=maxCompletionTokens, top_p=nucleusSampling)"
      ],
      "metadata": {
        "id": "XCQaA_8chjk-"
      },
      "execution_count": 17,
      "outputs": []
    },
    {
      "cell_type": "code",
      "source": [
        "SecondAssistantContent = response.choices[0].message.content\n",
        "#Force assitant message to be something: SecondAssistantContent = \"<something>\""
      ],
      "metadata": {
        "id": "io-1QG3jhq_l"
      },
      "execution_count": 18,
      "outputs": []
    },
    {
      "cell_type": "code",
      "source": [
        "print(SecondAssistantContent)"
      ],
      "metadata": {
        "colab": {
          "base_uri": "https://localhost:8080/"
        },
        "id": "qJeh1LFthwQk",
        "outputId": "3158ec4d-6c69-43f9-e711-9060f7139b2d"
      },
      "execution_count": 19,
      "outputs": [
        {
          "output_type": "stream",
          "name": "stdout",
          "text": [
            "The **Computer Science (Datamatiker)** program is a popular choice for students interested in a career in IT, software development, and system design. This program typically spans 2.5 years (150 ECTS) and is offered at several business and technology academies across Denmark.\n",
            "\n",
            "### Curriculum:\n",
            "The curriculum is designed to give students a deep understanding of programming, software development, and data handling. Key components of the program include:\n",
            "\n",
            "1. **Programming Languages**: Learning multiple programming languages such as Java, C#, Python, or others which are fundamental to all forms of software development.\n",
            "  \n",
            "2. **System Development**: Methods and techniques for developing effective and efficient software systems, including agile development practices.\n",
            "  \n",
            "3. **Database Management**: Designing, implementing, and managing databases using SQL and learning about NoSQL databases.\n",
            "  \n",
            "4. **Software Engineering Principles**: Understanding the software development lifecycle, including testing, debugging, and deployment.\n",
            "  \n",
            "5. **Web Technologies**: Developing web applications using HTML, CSS, JavaScript, and server-side technologies.\n",
            "\n",
            "6. **User Interface & User Experience (UI/UX)**: Designing user interfaces and focusing on the user experience to create accessible and efficient applications.\n",
            "\n",
            "7. **Network and Security Basics**: Fundamental network concepts and security practices critical to protecting data and systems.\n",
            "\n",
            "### Practical Experience:\n",
            "Most programs include a compulsory internship (usually in the third semester), allowing students to gain real-world experience in a business or tech company. This internship helps connect academic learning with practical industry applications, which is invaluable for professional development.\n",
            "\n",
            "### Project Work:\n",
            "Students are often required to complete project-based work throughout the program, culminating in a final project that synthesizes all their learning. These projects encourage hands-on application of skills and theoretical knowledge.\n",
            "\n",
            "### Admission Requirements:\n",
            "Applicants typically need to have completed a secondary education and meet specific entry requirements, which may include mathematics or computer science studies. Proficiency in English is also a requirement since many programs offer courses in English to accommodate international students.\n",
            "\n",
            "### Career Opportunities:\n",
            "Graduates can pursue a variety of roles, such as software developers, system developers, IT consultants, or project managers, within IT departments of non-tech companies or in technology firms.\n",
            "\n",
            "### Where to Study:\n",
            "The Computer Science program is available at various institutions across Denmark, including:\n",
            "- Copenhagen Business Academy (KEA)\n",
            "- Business Academy Aarhus\n",
            "- University College Northern Denmark (UCN)\n",
            "- Zealand Institute of Business and Technology (ZIBAT)\n",
            "\n",
            "### Further Education:\n",
            "After completion, graduates also have the option to pursue further education, including bachelor’s top-up degrees in IT, which can lead to more specialized roles or managerial positions.\n",
            "\n",
            "This combination of technical skills, practical experience, and theoretical understanding makes the Computer Science program a robust foundation for anyone looking to establish a career in the diverse field of IT.\n"
          ]
        }
      ]
    },
    {
      "cell_type": "markdown",
      "source": [
        "###3rd prompt"
      ],
      "metadata": {
        "id": "n1OwZfAhkuBv"
      }
    },
    {
      "cell_type": "code",
      "source": [
        "ThirdUserContent = \"<some content>\""
      ],
      "metadata": {
        "id": "oJLEhjbSk8gE"
      },
      "execution_count": 20,
      "outputs": []
    },
    {
      "cell_type": "code",
      "source": [
        "chatMessages=[\n",
        "    {\n",
        "        \"role\": \"system\", \"content\": InitialSystemContent\n",
        "    },\n",
        "    {\n",
        "        \"role\": \"user\",\n",
        "        \"content\": FirstUserContent,\n",
        "    },\n",
        "    {\n",
        "        \"role\": \"assistant\",\n",
        "        \"content\": FirstAssistantContent,\n",
        "    },\n",
        "    {\n",
        "        \"role\": \"user\",\n",
        "        \"content\": SecondUserContent,\n",
        "    },\n",
        "    {\n",
        "        \"role\": \"assistant\",\n",
        "        \"content\": SecondAssistantContent,\n",
        "    },\n",
        "    {\n",
        "        \"role\": \"user\",\n",
        "        \"content\": ThirdUserContent,\n",
        "    },\n",
        "]"
      ],
      "metadata": {
        "id": "IgcFKH1YlOu4"
      },
      "execution_count": 21,
      "outputs": []
    },
    {
      "cell_type": "code",
      "source": [
        "print(chatMessages)"
      ],
      "metadata": {
        "colab": {
          "base_uri": "https://localhost:8080/"
        },
        "id": "hUY_FAiblngZ",
        "outputId": "03549a46-809a-4d19-dcd3-3ed18c14fac8"
      },
      "execution_count": 22,
      "outputs": [
        {
          "output_type": "stream",
          "name": "stdout",
          "text": [
            "[{'role': 'system', 'content': 'Role: I am a potential student at a Danish business and technology academy (erhvervsakademi). Context: My intererest are within information technology Task: Give me a list og relevant programmes'}, {'role': 'user', 'content': 'Give a list of relevant programmes'}, {'role': 'assistant', 'content': \"Here's a list of relevant programs you might consider if you're interested in Information Technology at Danish business and technology academies (erhvervsakademier):\\n\\n1. **Computer Science (Datamatiker)** - This program typically covers topics such as programming, system development, and IT architectures. You’ll learn how to develop software, manage databases, and understand various programming languages.\\n\\n2. **IT Technology (IT-Teknolog)** - Focused on providing a broad foundation in IT, including network technology, hardware, and software solutions. This program is good if you want a hands-on approach to IT system implementation and maintenance.\\n\\n3. **Web Development (Webudvikler)** - This program is ideal if you're interested in designing and creating websites. It covers areas such as front-end and back-end programming, user interfaces, and user experience design.\\n\\n4. **Multimedia Design and Communication (Multimediedesigner)** - If you're interested in a combination of IT and creative skills, this program might be for you. It focuses on digital media, web design, graphic design, and digital communication.\\n\\n5. **Data Analyst Education (Dataanalytiker)** - This program focuses on data analysis, big data, and how to process large sets of data to derive actionable insights. It includes training in statistics, programming, and data visualization tools.\\n\\n6. **Software Development (Softwareudvikling)** - Tailored for students who wish to develop software, including apps for various platforms. The curriculum typically includes programming languages, user interface design, and software testing methodologies.\\n\\n7. **Cyber Security (Cybersikkerhed)** - With an emphasis on protecting systems, networks, and data from cyber threats, this program provides knowledge in areas such as risk management, cryptography, and digital forensics.\\n\\n8. **Network Technology and IT (Netværksteknologi og IT)** - This program focuses on the configuration, management, and troubleshooting of computer networks. It often includes studying various networking standards and protocols.\\n\\n9. **Robotics Technologist (Robotteknolog)** - Although more specialized, this program includes aspects of IT, focusing on the design and implementation of robotic systems. Subjects might include programming, electronic engineering, and AI.\\n\\nWhen choosing a program, consider your specific interests within IT, as well as the career opportunities each program may open up. Also, check each academy's website for detailed information on course specifics, entry requirements, and application deadlines.\"}, {'role': 'user', 'content': 'Give me the details on 1'}, {'role': 'assistant', 'content': 'The **Computer Science (Datamatiker)** program is a popular choice for students interested in a career in IT, software development, and system design. This program typically spans 2.5 years (150 ECTS) and is offered at several business and technology academies across Denmark.\\n\\n### Curriculum:\\nThe curriculum is designed to give students a deep understanding of programming, software development, and data handling. Key components of the program include:\\n\\n1. **Programming Languages**: Learning multiple programming languages such as Java, C#, Python, or others which are fundamental to all forms of software development.\\n  \\n2. **System Development**: Methods and techniques for developing effective and efficient software systems, including agile development practices.\\n  \\n3. **Database Management**: Designing, implementing, and managing databases using SQL and learning about NoSQL databases.\\n  \\n4. **Software Engineering Principles**: Understanding the software development lifecycle, including testing, debugging, and deployment.\\n  \\n5. **Web Technologies**: Developing web applications using HTML, CSS, JavaScript, and server-side technologies.\\n\\n6. **User Interface & User Experience (UI/UX)**: Designing user interfaces and focusing on the user experience to create accessible and efficient applications.\\n\\n7. **Network and Security Basics**: Fundamental network concepts and security practices critical to protecting data and systems.\\n\\n### Practical Experience:\\nMost programs include a compulsory internship (usually in the third semester), allowing students to gain real-world experience in a business or tech company. This internship helps connect academic learning with practical industry applications, which is invaluable for professional development.\\n\\n### Project Work:\\nStudents are often required to complete project-based work throughout the program, culminating in a final project that synthesizes all their learning. These projects encourage hands-on application of skills and theoretical knowledge.\\n\\n### Admission Requirements:\\nApplicants typically need to have completed a secondary education and meet specific entry requirements, which may include mathematics or computer science studies. Proficiency in English is also a requirement since many programs offer courses in English to accommodate international students.\\n\\n### Career Opportunities:\\nGraduates can pursue a variety of roles, such as software developers, system developers, IT consultants, or project managers, within IT departments of non-tech companies or in technology firms.\\n\\n### Where to Study:\\nThe Computer Science program is available at various institutions across Denmark, including:\\n- Copenhagen Business Academy (KEA)\\n- Business Academy Aarhus\\n- University College Northern Denmark (UCN)\\n- Zealand Institute of Business and Technology (ZIBAT)\\n\\n### Further Education:\\nAfter completion, graduates also have the option to pursue further education, including bachelor’s top-up degrees in IT, which can lead to more specialized roles or managerial positions.\\n\\nThis combination of technical skills, practical experience, and theoretical understanding makes the Computer Science program a robust foundation for anyone looking to establish a career in the diverse field of IT.'}, {'role': 'user', 'content': '<some content>'}]\n"
          ]
        }
      ]
    },
    {
      "cell_type": "code",
      "source": [
        "response = client.chat.completions.create(model=gptModel, messages=chatMessages, n=chatCompletionChoices, temperature=samplingTemperature,max_completion_tokens=maxCompletionTokens, top_p=nucleusSampling)"
      ],
      "metadata": {
        "id": "dxvc-yxCl1--"
      },
      "execution_count": 23,
      "outputs": []
    },
    {
      "cell_type": "code",
      "source": [
        "ThirdAssistantContent = response.choices[0].message.content\n",
        "#Force assitant message to be something: ThirdAssistantContent = \"<something>\""
      ],
      "metadata": {
        "id": "qrluUrmfmC7I"
      },
      "execution_count": 24,
      "outputs": []
    },
    {
      "cell_type": "code",
      "source": [
        "print(ThirdAssistantContent)"
      ],
      "metadata": {
        "colab": {
          "base_uri": "https://localhost:8080/"
        },
        "id": "QFjLzydvmOmb",
        "outputId": "152828ff-bdbd-4705-989a-871c51ef8700"
      },
      "execution_count": 25,
      "outputs": [
        {
          "output_type": "stream",
          "name": "stdout",
          "text": [
            "It seems like your message may not have been fully transmitted. Could you please send your question or comment again? I'm here to help!\n"
          ]
        }
      ]
    },
    {
      "cell_type": "markdown",
      "source": [
        "#Exercises"
      ],
      "metadata": {
        "id": "p1fwf3DB_lOx"
      }
    },
    {
      "cell_type": "markdown",
      "source": [
        "1. In the code blocks above, you see very start of developing a guided chat system for potential students on busniness academies in Denmark. Fill inspired to proceed."
      ],
      "metadata": {
        "id": "bhE77NaXAwzS"
      }
    }
  ]
}