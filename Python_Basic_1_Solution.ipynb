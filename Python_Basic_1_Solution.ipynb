{
  "nbformat": 4,
  "nbformat_minor": 0,
  "metadata": {
    "colab": {
      "provenance": [],
      "authorship_tag": "ABX9TyMLULgskfBOKEC6YjHx1pTk",
      "include_colab_link": true
    },
    "kernelspec": {
      "name": "python3",
      "display_name": "Python 3"
    },
    "language_info": {
      "name": "python"
    }
  },
  "cells": [
    {
      "cell_type": "markdown",
      "metadata": {
        "id": "view-in-github",
        "colab_type": "text"
      },
      "source": [
        "<a href=\"https://colab.research.google.com/github/jpandersen61/Machine-Learning/blob/main/Python_Basic_1_Solution.ipynb\" target=\"_parent\"><img src=\"https://colab.research.google.com/assets/colab-badge.svg\" alt=\"Open In Colab\"/></a>"
      ]
    },
    {
      "cell_type": "markdown",
      "source": [
        "# Python Basic No. 1"
      ],
      "metadata": {
        "id": "yH1uLJ2cLQOq"
      }
    },
    {
      "cell_type": "markdown",
      "source": [
        "This is a crash course in basic Python. The goal is you will be able to read and understand the code used in the course. Together we are going to do a Python program with some simple code. In order to keep a good speed no GUI no structure of program. Just coding:\n",
        "*   Simple declarations\n",
        "*   Initialising & changing values\n",
        "*   Printing\n",
        "*   Maximum, minimum, sum and average of the elements in an integer array\n",
        "\n",
        "\n",
        "Useful links:\n",
        "\n",
        "https://www.w3schools.com/Python/default.asp\n",
        "\n",
        "https://docs.python.org/3/library/random.html\n",
        "\n",
        "https://www.tutorialspoint.com/python_data_structure/python_2darray.htm\n",
        "\n",
        "https://stackoverflow.com/questions/6142689/initialising-an-array-of-fixed-size-in-python"
      ],
      "metadata": {
        "id": "JyhUATVmJdy4"
      }
    },
    {
      "cell_type": "markdown",
      "source": [
        "### Assignment 1: Application program, declaration"
      ],
      "metadata": {
        "id": "GA3AwRECkMky"
      }
    },
    {
      "cell_type": "markdown",
      "source": [
        "Enter the following piece of code in the cell below:\n",
        "\n",
        "```\n",
        "int x = 1\n",
        "y = 3\n",
        "z = 5\n",
        "sum = x+y+z\n",
        "Print(sum)\n",
        "```\n",
        "\n",
        "Run the cell by clicking the arrow.\n",
        "\n",
        "Note: Fix case error and type declaration error.\n",
        "\n",
        "What did you learn?\n"
      ],
      "metadata": {
        "id": "7oppwZv0j7qS"
      }
    },
    {
      "cell_type": "code",
      "execution_count": 1,
      "metadata": {
        "colab": {
          "base_uri": "https://localhost:8080/"
        },
        "id": "G2rJDqH_grOg",
        "outputId": "65381425-7a6a-4fb4-9cc6-4d3cfdb252ac"
      },
      "outputs": [
        {
          "output_type": "stream",
          "name": "stdout",
          "text": [
            "9\n"
          ]
        }
      ],
      "source": [
        "x = 1\n",
        "y = 3\n",
        "z = 5\n",
        "sum = x+y+z\n",
        "print(sum)"
      ]
    },
    {
      "cell_type": "markdown",
      "source": [
        "Now print out the result with a text by calling `print`:\n",
        "\n",
        "```\n",
        "print(\"Sum is: \" + sum)\n",
        "print(\"Sum is: \" + str(sum) + \" DKK\")\n",
        "#Finally use the f-strings\n",
        "print(f\"Sum is: + {sum} + DKK\")\n",
        "```\n",
        "\n",
        "Unfortunately there are errors. Correct the errors.\n"
      ],
      "metadata": {
        "id": "cc-w9JWOm8qR"
      }
    },
    {
      "cell_type": "code",
      "source": [
        "print(\"Sum is: \" + str(sum))\n",
        "print(\"Sum is: \" + str(sum) + \" DKK\")\n",
        "# Finally use the f-strings, a new feature in Python 3\n",
        "print(f\"Sum is: + {sum} + DKK\")"
      ],
      "metadata": {
        "colab": {
          "base_uri": "https://localhost:8080/"
        },
        "id": "KdO2DOVjneeg",
        "outputId": "296ea4a5-1062-451f-fff1-07c7528eedf1"
      },
      "execution_count": 2,
      "outputs": [
        {
          "output_type": "stream",
          "name": "stdout",
          "text": [
            "Sum is: 9\n",
            "Sum is: 9 DKK\n",
            "Sum is: + 9 + DKK\n"
          ]
        }
      ]
    },
    {
      "cell_type": "markdown",
      "source": [
        "### Assignment 2: Application program, loops"
      ],
      "metadata": {
        "id": "u4jM536upAvK"
      }
    },
    {
      "cell_type": "markdown",
      "source": [
        "For-loops in Python are actually for-each loops.\n",
        "Try to print out a list of squares:\n",
        "\n",
        "```\n",
        "for i in range(1, 10):\n",
        "    print(i,i*i)\n",
        "print()\n",
        "```\n",
        "\n",
        "Indent both `print()` statements. What happens? Explain.\n",
        "\n",
        "Undo the last indentation.\n",
        "\n",
        "Change the `print(i,i*i)` statement to `print(i,i*i, end = \" \")`\n",
        "\n"
      ],
      "metadata": {
        "id": "zWLtBjsgpD7x"
      }
    },
    {
      "cell_type": "code",
      "source": [
        "for i in range(1, 10):\n",
        "    print(i,i*i, end = \" \")\n",
        "print()"
      ],
      "metadata": {
        "colab": {
          "base_uri": "https://localhost:8080/"
        },
        "id": "o5hugu79pZh6",
        "outputId": "4e2a95eb-5d4c-4bd3-9965-a22d688f57cc"
      },
      "execution_count": 3,
      "outputs": [
        {
          "output_type": "stream",
          "name": "stdout",
          "text": [
            "1 1 2 4 3 9 4 16 5 25 6 36 7 49 8 64 9 81 \n"
          ]
        }
      ]
    },
    {
      "cell_type": "markdown",
      "source": [
        "### Assignment 3: Application program, nested for loops"
      ],
      "metadata": {
        "id": "Gleqy1tDrxEO"
      }
    },
    {
      "cell_type": "markdown",
      "source": [
        "A multiplication table (10*10) looks like this:\n",
        "\n",
        "```\n",
        " 1  2  3  4  5  6   7  8  9 10\n",
        " 2  4  6  8 10 12  14 16 18 20\n",
        " 3  6  9 12  .  .\n",
        " 4  8 12  .  .  .\n",
        " 5 10  .  .  .  .\n",
        " 6 12\n",
        " 7 14\n",
        " 8 16\n",
        " 9 18\n",
        "10 20\n",
        "```\n",
        "Now you have to print out the numbers in the table using nested loops; i.e. a for-loop inside another for-loop. The formatting (a real table format) does not matter; it is the loops and content we focus on.\n",
        "Tip: `print(i*j, end = “ “)`\n"
      ],
      "metadata": {
        "id": "S0SyyKSXtFRT"
      }
    },
    {
      "cell_type": "code",
      "source": [
        "print(\"\".rjust(3), end = \" \")\n",
        "for j in range(1, 11):\n",
        "    print(str(j).rjust(3), end = \" \")\n",
        "print()\n",
        "for j in range(1, 11):\n",
        "    print(str(j).rjust(3), end = \" \")\n",
        "    for i in range(1, 11):\n",
        "        print(str(j*i).rjust(3), end = \" \")\n",
        "    print()"
      ],
      "metadata": {
        "colab": {
          "base_uri": "https://localhost:8080/"
        },
        "id": "40VIq7SjuyIM",
        "outputId": "38b5a203-9554-4203-aef3-26d2d1cfdaf3"
      },
      "execution_count": 26,
      "outputs": [
        {
          "output_type": "stream",
          "name": "stdout",
          "text": [
            "      1   2   3   4   5   6   7   8   9 \n",
            "  1   1   2   3   4   5   6   7   8   9  10 \n",
            "  2   2   4   6   8  10  12  14  16  18  20 \n",
            "  3   3   6   9  12  15  18  21  24  27  30 \n",
            "  4   4   8  12  16  20  24  28  32  36  40 \n",
            "  5   5  10  15  20  25  30  35  40  45  50 \n",
            "  6   6  12  18  24  30  36  42  48  54  60 \n",
            "  7   7  14  21  28  35  42  49  56  63  70 \n",
            "  8   8  16  24  32  40  48  56  64  72  80 \n",
            "  9   9  18  27  36  45  54  63  72  81  90 \n",
            " 10  10  20  30  40  50  60  70  80  90 100 \n"
          ]
        }
      ]
    },
    {
      "cell_type": "markdown",
      "source": [
        "### Assignment 4: Application program, while-loops"
      ],
      "metadata": {
        "id": "8LszHARf1R8z"
      }
    },
    {
      "cell_type": "markdown",
      "source": [
        "Try to print out a list of squares using a while-loop:\n",
        "\n",
        "```\n",
        "i = 1\n",
        "while (i<=10):\n",
        "    ........\n",
        "```\n",
        "\n",
        "Write the rest of the code lines yourself in the cell below:"
      ],
      "metadata": {
        "id": "sSTzLmBV1fr9"
      }
    },
    {
      "cell_type": "code",
      "source": [
        "i = 1\n",
        "while (i<=10):\n",
        "    print(i,i*i, end = \" \")\n",
        "    i += 1"
      ],
      "metadata": {
        "colab": {
          "base_uri": "https://localhost:8080/"
        },
        "id": "epvbkXT01z1z",
        "outputId": "2527a6a2-a078-4cd9-8571-e567a7fa5ba3"
      },
      "execution_count": 5,
      "outputs": [
        {
          "output_type": "stream",
          "name": "stdout",
          "text": [
            "1 1 2 4 3 9 4 16 5 25 6 36 7 49 8 64 9 81 10 100 "
          ]
        }
      ]
    },
    {
      "cell_type": "markdown",
      "source": [
        "### Assignment 5: Application program, if-else"
      ],
      "metadata": {
        "id": "jcL-sfO22N6k"
      }
    },
    {
      "cell_type": "markdown",
      "source": [
        "Try to print out the maximum of two numbers: `x` and `y`\n",
        "\n",
        "```\n",
        "x = 7\n",
        "y = 23\n",
        "if (x > y):\n",
        "    print(\"x: \"+ str(x))\n",
        "else:\n",
        "    print(\"y: \"+ str(y))\n",
        "```\n",
        "\n",
        "Run in the cell below"
      ],
      "metadata": {
        "id": "x0fiUy3I2VHl"
      }
    },
    {
      "cell_type": "code",
      "source": [
        "x = 7\n",
        "y = 23\n",
        "if (x > y):\n",
        "    print(\"x: \"+ str(x))\n",
        "else:\n",
        "    print(\"y: \"+ str(y))"
      ],
      "metadata": {
        "colab": {
          "base_uri": "https://localhost:8080/"
        },
        "id": "NfdUi5s53Sh1",
        "outputId": "e0cc3b5c-c63f-4149-ff5f-3949084ec713"
      },
      "execution_count": 6,
      "outputs": [
        {
          "output_type": "stream",
          "name": "stdout",
          "text": [
            "y: 23\n"
          ]
        }
      ]
    },
    {
      "cell_type": "markdown",
      "source": [
        "### Assignment 6: Method maximum of two numbers"
      ],
      "metadata": {
        "id": "K0OpEGLU3whu"
      }
    },
    {
      "cell_type": "markdown",
      "source": [
        "Extend with a new method `findMax(x,y)`, which returns the maximum of the parameters\n",
        "\n",
        "```\n",
        "def findMax(x,y):\n",
        "    if (x > y):\n",
        "        . . . . . .\n",
        "```\n",
        "Call the method and print out the maximum value.\n",
        "Tip: Be inspired by assignment 5 but remember return !"
      ],
      "metadata": {
        "id": "hU9Rc5JP326U"
      }
    },
    {
      "cell_type": "code",
      "source": [
        "def findMax(x,y):\n",
        "    if (x > y):\n",
        "       return x\n",
        "    else:\n",
        "       return y"
      ],
      "metadata": {
        "id": "pT_CY9co4ln3"
      },
      "execution_count": 7,
      "outputs": []
    },
    {
      "cell_type": "code",
      "source": [
        "findMax(2,3)"
      ],
      "metadata": {
        "colab": {
          "base_uri": "https://localhost:8080/"
        },
        "id": "TVjiJ9ZX5ORt",
        "outputId": "f37c09be-dcad-46d4-ee0b-bc8497946b47"
      },
      "execution_count": 8,
      "outputs": [
        {
          "output_type": "execute_result",
          "data": {
            "text/plain": [
              "3"
            ]
          },
          "metadata": {},
          "execution_count": 8
        }
      ]
    },
    {
      "cell_type": "markdown",
      "source": [
        "Assignment 7: Application program 1-dim array (list) of numbers"
      ],
      "metadata": {
        "id": "nmg7gcR95rx1"
      }
    },
    {
      "cell_type": "markdown",
      "source": [
        "Lists are actually the Python version of 1-dim arrays.\n",
        "Declare a list with the primes:\n",
        "\n",
        "```\n",
        "data = [1,2,3,5,7,11,13,17,19,23]\n",
        "print(data)\n",
        "for item in data:\n",
        "    print(item, end = \" \")\n",
        "```\n",
        "\n",
        "Run in the cell below. Explain the output."
      ],
      "metadata": {
        "id": "02iG39DQ50ao"
      }
    },
    {
      "cell_type": "code",
      "source": [
        "data = [1,2,3,5,7,11,13,17,19,23]\n",
        "print(data)\n",
        "for item in data:\n",
        "    print(item, end = \" \")"
      ],
      "metadata": {
        "colab": {
          "base_uri": "https://localhost:8080/"
        },
        "id": "8w29argF7DtG",
        "outputId": "e4ed13fe-f9da-4bf0-fbd1-f778ac3c0d1e"
      },
      "execution_count": 9,
      "outputs": [
        {
          "output_type": "stream",
          "name": "stdout",
          "text": [
            "[1, 2, 3, 5, 7, 11, 13, 17, 19, 23]\n",
            "1 2 3 5 7 11 13 17 19 23 "
          ]
        }
      ]
    },
    {
      "cell_type": "markdown",
      "source": [
        "Add some more lines:\n",
        "\n",
        "```\n",
        "print(data[3])\n",
        "data[0] = 17\n",
        "data.append(37)\n",
        "print(data)\n",
        "```\n",
        "Run in the cell below. What do you expect to see?"
      ],
      "metadata": {
        "id": "-Oj0FY217fU8"
      }
    },
    {
      "cell_type": "markdown",
      "source": [],
      "metadata": {
        "id": "XzOLzttD7AIs"
      }
    },
    {
      "cell_type": "code",
      "source": [
        "print(data[3])\n",
        "data[0] = 17\n",
        "data.append(37)\n",
        "print(data)"
      ],
      "metadata": {
        "colab": {
          "base_uri": "https://localhost:8080/"
        },
        "id": "nGVlHK8B77Pt",
        "outputId": "c2e288c5-11ec-4e45-beca-d753378e9bd4"
      },
      "execution_count": 10,
      "outputs": [
        {
          "output_type": "stream",
          "name": "stdout",
          "text": [
            "5\n",
            "[17, 2, 3, 5, 7, 11, 13, 17, 19, 23, 37]\n"
          ]
        }
      ]
    },
    {
      "cell_type": "markdown",
      "source": [
        "Add more lines:\n",
        "\n",
        "```\n",
        "data.insert(4,99)\n",
        "print(data)\n",
        "```\n",
        "\n",
        "Run it in the cell below. What do you expect to see now?\n",
        "What did you learn? Difference between append and insert."
      ],
      "metadata": {
        "id": "mKMj-whU8JUb"
      }
    },
    {
      "cell_type": "code",
      "source": [
        "data.insert(4,99)\n",
        "print(data)"
      ],
      "metadata": {
        "colab": {
          "base_uri": "https://localhost:8080/"
        },
        "id": "IAf_FFGN8hjU",
        "outputId": "26df31aa-c7ff-47be-d308-9dd5cc50b26e"
      },
      "execution_count": 11,
      "outputs": [
        {
          "output_type": "stream",
          "name": "stdout",
          "text": [
            "[17, 2, 3, 5, 99, 7, 11, 13, 17, 19, 23, 37]\n"
          ]
        }
      ]
    },
    {
      "cell_type": "markdown",
      "source": [
        "### Assignment 8: Method maximum"
      ],
      "metadata": {
        "id": "E2eM0QqE9Jvv"
      }
    },
    {
      "cell_type": "markdown",
      "source": [
        "Extend with a new method find_max(data), which returns the maximum of the numbers in the list data.\n",
        "\n",
        "\n",
        "```\n",
        "def find_max(data):\n",
        "    my_max_ = max(data)\n",
        "    return my_max\n",
        "```\n",
        "\n",
        "Call find_max with data as parameter:\n",
        "\n",
        "```\n",
        "max_num = find_max(data)\n",
        "```\n",
        "\n",
        "and print out the maximum number."
      ],
      "metadata": {
        "id": "lipw4y6s9aDb"
      }
    },
    {
      "cell_type": "code",
      "source": [
        "def find_max(data):\n",
        "    my_max = max(data)\n",
        "    return my_max"
      ],
      "metadata": {
        "id": "YM89xi96-T1t"
      },
      "execution_count": 12,
      "outputs": []
    },
    {
      "cell_type": "code",
      "source": [
        "max_num = find_max(data)\n",
        "max_num"
      ],
      "metadata": {
        "colab": {
          "base_uri": "https://localhost:8080/"
        },
        "id": "Y4Qj4fRA-HY0",
        "outputId": "b9afd063-c433-4d0b-99d9-a41efea8debd"
      },
      "execution_count": 13,
      "outputs": [
        {
          "output_type": "execute_result",
          "data": {
            "text/plain": [
              "99"
            ]
          },
          "metadata": {},
          "execution_count": 13
        }
      ]
    },
    {
      "cell_type": "markdown",
      "source": [
        "Assignment 9: Method minimum"
      ],
      "metadata": {
        "id": "qYDzb0fo_vst"
      }
    },
    {
      "cell_type": "markdown",
      "source": [
        "Extend with a new method `find_min(data)`, which returns the minimum value of the numbers in the parameter `data`. Remember to introduce extra printing-sentences for this."
      ],
      "metadata": {
        "id": "b3nSuU6U-AnF"
      }
    },
    {
      "cell_type": "code",
      "source": [
        "def find_min(data):\n",
        "    my_min = min(data)\n",
        "    return my_min"
      ],
      "metadata": {
        "id": "WVaG6D8xAMVd"
      },
      "execution_count": 14,
      "outputs": []
    },
    {
      "cell_type": "code",
      "source": [
        "min_num = find_min(data)\n",
        "min_num"
      ],
      "metadata": {
        "colab": {
          "base_uri": "https://localhost:8080/"
        },
        "id": "_iaaVEpNAgBd",
        "outputId": "ea9bf818-1b22-4de6-ffae-62a5ed53c4b0"
      },
      "execution_count": 15,
      "outputs": [
        {
          "output_type": "execute_result",
          "data": {
            "text/plain": [
              "2"
            ]
          },
          "metadata": {},
          "execution_count": 15
        }
      ]
    },
    {
      "cell_type": "markdown",
      "source": [
        "### Assignment 10: Method Sum"
      ],
      "metadata": {
        "id": "U84_5tF_A8h_"
      }
    },
    {
      "cell_type": "markdown",
      "source": [
        "Extend with a new method `find_sum(data)`, which returns the sum value of the numbers in the array parameter `data`."
      ],
      "metadata": {
        "id": "aWT7usjIBDn1"
      }
    },
    {
      "cell_type": "code",
      "source": [
        "def find_sum(data):\n",
        "    sum = 0\n",
        "    for i in range(len(data)):\n",
        "        sum += data[i]\n",
        "    return sum"
      ],
      "metadata": {
        "id": "KjS1soZDBo5G"
      },
      "execution_count": 16,
      "outputs": []
    },
    {
      "cell_type": "code",
      "source": [
        "find_sum(data)"
      ],
      "metadata": {
        "colab": {
          "base_uri": "https://localhost:8080/"
        },
        "id": "2w85adABCfL9",
        "outputId": "7cc4479c-93fe-4dd7-ff1e-91a9dc881a21"
      },
      "execution_count": 17,
      "outputs": [
        {
          "output_type": "execute_result",
          "data": {
            "text/plain": [
              "253"
            ]
          },
          "metadata": {},
          "execution_count": 17
        }
      ]
    },
    {
      "cell_type": "markdown",
      "source": [
        "### Assignment 11: Average"
      ],
      "metadata": {
        "id": "DopL4h0xDC0M"
      }
    },
    {
      "cell_type": "markdown",
      "source": [
        "Extend with a new method `average(data)`, which returns the average of all numbers in the list. Utilize `find_sum` method from previous assignment."
      ],
      "metadata": {
        "id": "81nYWP4lDLgm"
      }
    },
    {
      "cell_type": "code",
      "source": [
        "def average(data):\n",
        "    return find_sum(data)/len(data)"
      ],
      "metadata": {
        "id": "r1pty2oBDaD9"
      },
      "execution_count": 18,
      "outputs": []
    },
    {
      "cell_type": "code",
      "source": [
        "average(data)"
      ],
      "metadata": {
        "colab": {
          "base_uri": "https://localhost:8080/"
        },
        "id": "Pp0kr7yRDxM2",
        "outputId": "a0f9650e-fcee-4770-d12d-29fb3a13c84c"
      },
      "execution_count": 19,
      "outputs": [
        {
          "output_type": "execute_result",
          "data": {
            "text/plain": [
              "21.083333333333332"
            ]
          },
          "metadata": {},
          "execution_count": 19
        }
      ]
    },
    {
      "cell_type": "markdown",
      "source": [
        "Assignment X: The 5 highest numbers"
      ],
      "metadata": {
        "id": "9H6HeO1VEMpQ"
      }
    },
    {
      "cell_type": "markdown",
      "source": [
        "How to find the 5 highest numbers in a list. How to return this from a method.\n",
        "Or maybe you can make it flexible so it can be any highest numbers like 6 or 11 etc."
      ],
      "metadata": {
        "id": "EudukSrbEOnG"
      }
    },
    {
      "cell_type": "code",
      "source": [
        "data.sort(reverse=True)\n",
        "data[:5]\n"
      ],
      "metadata": {
        "colab": {
          "base_uri": "https://localhost:8080/"
        },
        "id": "uw7LiKJuEYkQ",
        "outputId": "0f4fd260-b491-4caa-cf6b-76c4ce5b83e1"
      },
      "execution_count": 20,
      "outputs": [
        {
          "output_type": "execute_result",
          "data": {
            "text/plain": [
              "[99, 37, 23, 19, 17]"
            ]
          },
          "metadata": {},
          "execution_count": 20
        }
      ]
    }
  ]
}